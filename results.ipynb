{
 "cells": [
  {
   "cell_type": "markdown",
   "metadata": {},
   "source": [
    "We implemented a class 'PatientProfile' in profiles.py file.\n",
    "In the class, we have defined a number of methods affecting the patient's motvation based on the patient's profile. We also added:\n",
    "- a record breaking mechanic and a field to store the record\n",
    "- patient's initial stress level\n",
    "- patient's initial fatigue level\n",
    "\n",
    "We decided on comparing 3 patient profiles as there is 3 of us in the group.\n",
    "The profiles we found are:\n",
    "- \"resiliant\" does is mildly affected by stress and fatigue and does not get motivated by competition\n",
    "- \"self_improver\" does well when the habit is strongand when compared to peers and suffers in high stress and fatigue situations\n",
    "- \"competition_motivated\" does well when compared to peers and suffers in high stress and fatigue situations\n",
    " \n",
    " Patients had their stress and fatigue levels set to 4 out of 10."
   ]
  },
  {
   "cell_type": "markdown",
   "metadata": {},
   "source": [
    "the resulting visualizations are available in the experiments files"
   ]
  },
  {
   "cell_type": "markdown",
   "metadata": {},
   "source": [
    "We found that the \"self_improver\" is similar to the \"competition_motivated\" profile in terms of motivation and performance.\n",
    "\n",
    "Number of hours slept did not increase much for either of groups, but the quality of patients' mood steadily increased over time."
   ]
  },
  {
   "cell_type": "markdown",
   "metadata": {},
   "source": [
    "The number of notifications needed was lower the longer the treatment went for all profiles"
   ]
  },
  {
   "cell_type": "markdown",
   "metadata": {},
   "source": [
    "The 3 profiles had similar results in terms of motivation and performance, but the \"self_improver\" profile seemd to have slightly better results in terms of motivation and performance."
   ]
  },
  {
   "cell_type": "markdown",
   "metadata": {},
   "source": [
    "RF adaptive stimulus generation performed better than any other method. After 21 days the number of required notifications was 0 for all profiles.\n",
    "PPO and DQN performed similarly, but PPO had slightly better results in terms of activity performed to prompt ratio, but required more notifications than DQN.\n",
    "A2C was worse, followed by the random method."
   ]
  },
  {
   "cell_type": "markdown",
   "metadata": {},
   "source": []
  }
 ],
 "metadata": {
  "language_info": {
   "name": "python"
  }
 },
 "nbformat": 4,
 "nbformat_minor": 2
}
